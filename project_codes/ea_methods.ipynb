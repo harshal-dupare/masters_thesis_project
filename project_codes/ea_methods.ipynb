{
  "nbformat": 4,
  "nbformat_minor": 0,
  "metadata": {
    "colab": {
      "provenance": [],
      "collapsed_sections": [
        "JAd6GQzOfYzu",
        "YjTVLUcggKy9",
        "pyalGnf8i6pG",
        "EaglZjMCm5UE"
      ]
    },
    "kernelspec": {
      "name": "python3",
      "display_name": "Python 3"
    },
    "language_info": {
      "name": "python"
    }
  },
  "cells": [
    {
      "cell_type": "markdown",
      "source": [
        "# Setup"
      ],
      "metadata": {
        "id": "JAd6GQzOfYzu"
      }
    },
    {
      "cell_type": "code",
      "execution_count": 1,
      "metadata": {
        "colab": {
          "base_uri": "https://localhost:8080/"
        },
        "id": "zdtxvgcVeovm",
        "outputId": "9889c4fb-bba6-4b60-c1a0-56fafc882189"
      },
      "outputs": [
        {
          "output_type": "stream",
          "name": "stdout",
          "text": [
            "Drive already mounted at /content/drive; to attempt to forcibly remount, call drive.mount(\"/content/drive\", force_remount=True).\n"
          ]
        }
      ],
      "source": [
        "from google.colab import drive\n",
        "drive.mount('/content/drive')"
      ]
    },
    {
      "cell_type": "code",
      "source": [
        "cd /content/drive/MyDrive/mtp-thesis"
      ],
      "metadata": {
        "colab": {
          "base_uri": "https://localhost:8080/"
        },
        "id": "6MZw_zKEfykK",
        "outputId": "279e589e-95af-4af9-daae-30b7be28c632"
      },
      "execution_count": 2,
      "outputs": [
        {
          "output_type": "stream",
          "name": "stdout",
          "text": [
            "/content/drive/MyDrive/mtp-thesis\n"
          ]
        }
      ]
    },
    {
      "cell_type": "code",
      "source": [
        "ls"
      ],
      "metadata": {
        "id": "gC_-yx-af_kn"
      },
      "execution_count": null,
      "outputs": []
    },
    {
      "cell_type": "code",
      "source": [],
      "metadata": {
        "id": "6p3mMUhIC0N_"
      },
      "execution_count": 3,
      "outputs": []
    },
    {
      "cell_type": "markdown",
      "source": [
        "# Loading Data"
      ],
      "metadata": {
        "id": "YjTVLUcggKy9"
      }
    },
    {
      "cell_type": "code",
      "source": [
        "DATA_FILE = '/content/drive/MyDrive/mtp-thesis/data/X_train_YG7NZSq.csv'"
      ],
      "metadata": {
        "id": "OPKcxEOVgNQb"
      },
      "execution_count": 4,
      "outputs": []
    },
    {
      "cell_type": "code",
      "source": [
        "RESULTS_FOLDER = '/content/drive/MyDrive/mtp-thesis/results'"
      ],
      "metadata": {
        "id": "byyMDdMskF_q"
      },
      "execution_count": 5,
      "outputs": []
    },
    {
      "cell_type": "code",
      "source": [
        "import pandas as pd\n",
        "import numpy as np"
      ],
      "metadata": {
        "id": "I4T5E9mSggMN"
      },
      "execution_count": 6,
      "outputs": []
    },
    {
      "cell_type": "code",
      "source": [
        "_data = pd.read_csv(DATA_FILE)\n",
        "_datam = np.matrix(_data)"
      ],
      "metadata": {
        "id": "mxppxOGpgbQf"
      },
      "execution_count": 7,
      "outputs": []
    },
    {
      "cell_type": "code",
      "source": [
        "_data.T.describe()"
      ],
      "metadata": {
        "id": "eHGu_axcgnf-"
      },
      "execution_count": null,
      "outputs": []
    },
    {
      "cell_type": "code",
      "source": [
        "_datam.shape"
      ],
      "metadata": {
        "id": "ilzdqh1k9S8Y"
      },
      "execution_count": null,
      "outputs": []
    },
    {
      "cell_type": "markdown",
      "source": [
        "# Data Handler Class and Utils Function"
      ],
      "metadata": {
        "id": "pyalGnf8i6pG"
      }
    },
    {
      "cell_type": "code",
      "execution_count": 10,
      "metadata": {
        "id": "EP1EtTdKic6L"
      },
      "outputs": [],
      "source": [
        "import numpy as np\n",
        "\n",
        "def gram_schmidt_algorithm(A):\n",
        "    \"\"\"\n",
        "    O(d^2k)\n",
        "    \"\"\"\n",
        "    for i in range(A.shape[0]):\n",
        "        q = A[i, :]\n",
        "        for j in range(i):\n",
        "            q = q - np.dot(A[j,:], A[i,:]) * A[j,:]\n",
        "        q = q / np.sqrt(np.dot(q, q))\n",
        "        A[i,:] = q\n",
        "    return A\n",
        "\n",
        "def cayley_transformation(A):\n",
        "    \"\"\"\n",
        "    A is (d,k) matrix\n",
        "    T = \n",
        "    O()\n",
        "    \"\"\"\n",
        "    I = np.eye(A.shape[0])\n",
        "    Q = np.matmul(np.linalg.inv(I+A),(I-A))\n",
        "    return Q\n",
        "\n",
        "def random_matrix(shape, limits_gap=200, center=0.5):\n",
        "    rmat = np.random.random(shape)\n",
        "    while np.linalg.matrix_rank(rmat) < min(shape[0],shape[1]):\n",
        "        rmat = np.random.random(shape)\n",
        "    return limits_gap*(rmat-center)\n",
        "\n",
        "class Data_Handler:\n",
        "    def __init__(self, n, k, d, T, S, R):\n",
        "        \"\"\"\n",
        "        R is a n x (T + S) numpy array\n",
        "        d is an integer that represents the number of time lags\n",
        "        d <= k\n",
        "        \"\"\"\n",
        "        self.n = n\n",
        "        self.k = k\n",
        "        self.d = d\n",
        "        self.T = T\n",
        "        self.S = S\n",
        "        self.R = R\n",
        "        assert(d<=k)\n",
        "        assert(R.shape[0]==n)\n",
        "        assert(R.shape[1]==(T+S))\n",
        "        self._compute_optimizers()\n",
        "        pass\n",
        "\n",
        "    def get_string(self):\n",
        "        return f\"{self.n}-{self.k}-{self.d}-{self.T}-{self.S}\"\n",
        "\n",
        "    def _compute_optimizers(self):\n",
        "        self.sum_RtdTRtd_dT_altD = np.zeros((self.d, self.d))  # d x d\n",
        "        self.sum_RtdTRt_dT_altN = np.zeros((self.d, 1))  # d x 1\n",
        "        self.list_RtdTRtd = []\n",
        "        self.list_RtdTRt = []\n",
        "        self.list_norm_Rt = []\n",
        "        for t in range(self.d):\n",
        "            r_t = self.R[:, t].reshape(self.n, 1)  # n x 1\n",
        "            self.list_RtdTRtd += [None]\n",
        "            self.list_RtdTRt += [None]\n",
        "            self.list_norm_Rt += [np.linalg.norm(r_t, 2)]\n",
        "        for t in range(self.d, self.T+self.S):\n",
        "            r_t = self.R[:, t].reshape(self.n, 1)  # n x 1\n",
        "            r_td = self.R[:, t-self.d:t]  # n x d\n",
        "            self.list_RtdTRtd += [np.matmul(r_td.T, r_td)]\n",
        "            self.list_RtdTRt += [np.matmul(r_td.T, r_t)]\n",
        "            self.list_norm_Rt += [np.linalg.norm(r_t, 2)]\n",
        "        for t in range(self.d, self.T):\n",
        "            self.sum_RtdTRtd_dT_altD += self.list_RtdTRtd[t]\n",
        "            self.sum_RtdTRt_dT_altN += self.list_RtdTRt[t]\n",
        "\n",
        "    def compute_reward(self, beta, A):\n",
        "        Abeta = np.matmul(A, beta)  # d x 1\n",
        "        reward_sum = 0\n",
        "        for t in range(self.T, self.T + self.S):\n",
        "            reward_sum += np.matmul(self.list_RtdTRt[t].T, Abeta) / (self.list_norm_Rt[t] * np.sqrt(np.matmul(Abeta.T, np.matmul(self.list_RtdTRtd[t], Abeta))))\n",
        "        reward = reward_sum / self.S\n",
        "        return reward\n",
        "\n",
        "    def compute_loss(self, beta, A):\n",
        "        Abeta = np.matmul(A, beta)  # d x 1\n",
        "        loss_sum = 0\n",
        "        for t in range(self.d, self.T):\n",
        "            loss_sum += self.list_norm_Rt[t]\n",
        "            loss_sum += -2*np.matmul(self.list_RtdTRt[t].T, Abeta)\n",
        "            loss_sum += np.matmul(Abeta.T, np.matmul(self.list_RtdTRtd[t], Abeta))\n",
        "        loss = loss_sum / (2*(self.T - self.d + 1))\n",
        "        return loss\n",
        "\n",
        "    def compute_loss_gradient_beta(self, beta, A):\n",
        "        beta_grad = np.matmul(A.T, np.matmul(self.sum_RtdTRtd_dT_altD, np.matmul(A, beta))) - np.matmul(A.T, self.sum_RtdTRt_dT_altN)\n",
        "        beta_grad = beta_grad / (self.T - self.d + 1)\n",
        "        return beta_grad\n",
        "\n",
        "    def compute_loss_gradient_A(self, beta, A):\n",
        "        A_grad = np.matmul(self.sum_RtdTRtd_dT_altD, np.matmul(A, beta)) - self.sum_RtdTRt_dT_altN\n",
        "        A_grad = np.matmul(A_grad, beta.T)\n",
        "        A_grad = A_grad / (self.T - self.d + 1)\n",
        "        return A_grad\n",
        "\n",
        "    def compute_loss_gradient_beta_A(self, beta, A):\n",
        "        temp = np.matmul(self.sum_RtdTRtd_dT_altD, np.matmul(A, beta))\n",
        "        beta_grad = np.matmul(A.T, temp) - np.matmul(A.T, self.sum_RtdTRt_dT_altN)\n",
        "        beta_grad = beta_grad / (self.T - self.d + 1)\n",
        "        A_grad = temp - self.sum_RtdTRt_dT_altN\n",
        "        A_grad = np.matmul(A_grad, beta.T)\n",
        "        A_grad = A_grad / (self.T - self.d + 1)\n",
        "        return beta_grad, A_grad\n",
        "\n",
        "    def compute_reward_gradient_beta(self, beta, A):\n",
        "        T1 = np.zeros((self.d,1))\n",
        "        T2 = np.zeros((self.d,self.d))\n",
        "        Abeta = np.matmul(A, beta)  # d x 1\n",
        "        for t in range(self.T, self.T + self.S):\n",
        "            Ftbeta_norm = float(np.sqrt(np.matmul(Abeta.T,np.matmul(self.list_RtdTRtd[t],Abeta))))\n",
        "            RtFtbeta_scalar = float(np.matmul(self.list_RtdTRt[t].T, Abeta))\n",
        "            T1 += self.list_RtdTRt[t]/(Ftbeta_norm * self.list_norm_Rt[t])\n",
        "            T2 += (RtFtbeta_scalar/(self.list_norm_Rt[t]*Ftbeta_norm**3)  * self.list_RtdTRtd[t])\n",
        "        grad_beta = np.matmul(A.T, T1) - np.matmul(A.T, np.matmul(T2,Abeta))\n",
        "        grad_beta =  grad_beta / self.S\n",
        "        return grad_beta\n",
        "\n",
        "    def compute_reward_gradient_A(self, beta, A):\n",
        "        T1 = np.zeros((self.d,1))\n",
        "        T2 = np.zeros((self.d,self.d))\n",
        "        Abeta = np.matmul(A, beta)  # d x 1\n",
        "        for t in range(self.T, self.T + self.S):\n",
        "            Ftbeta_norm = float(np.sqrt(np.matmul(Abeta.T,np.matmul(self.list_RtdTRtd[t],Abeta))))\n",
        "            RtFtbeta_scalar = float(np.matmul(self.list_RtdTRt[t].T, Abeta))\n",
        "            T1 += self.list_RtdTRt[t]/(Ftbeta_norm * self.list_norm_Rt[t])\n",
        "            T2 += (RtFtbeta_scalar/(self.list_norm_Rt[t]*Ftbeta_norm**3)  * self.list_RtdTRtd[t])\n",
        "        grad_A = np.matmul(T1, beta.T) - np.matmul(np.matmul(T2, Abeta), beta.T)\n",
        "        grad_A =  grad_A / self.S\n",
        "        return grad_A\n",
        "    \n",
        "    def compute_reward_gradient_beta_A(self, beta, A):\n",
        "        T1 = np.zeros((self.d,1))\n",
        "        T2 = np.zeros((self.d,self.d))\n",
        "        Abeta = np.matmul(A, beta)  # d x 1\n",
        "        for t in range(self.T, self.T + self.S):\n",
        "            Ftbeta_norm = float(np.sqrt(np.matmul(Abeta.T,np.matmul(self.list_RtdTRtd[t],Abeta))))\n",
        "            RtFtbeta_scalar = float(np.matmul(self.list_RtdTRt[t].T, Abeta))\n",
        "            T1 += self.list_RtdTRt[t]/(Ftbeta_norm * self.list_norm_Rt[t])\n",
        "            T2 += (RtFtbeta_scalar/(self.list_norm_Rt[t]*Ftbeta_norm**3)  * self.list_RtdTRtd[t])\n",
        "        grad_beta = np.matmul(A.T, T1) - np.matmul(A.T, np.matmul(T2,Abeta))\n",
        "        grad_beta =  grad_beta / self.S\n",
        "        grad_A = np.matmul(T1, beta.T) - np.matmul(np.matmul(T2, Abeta), beta.T)\n",
        "        grad_A =  grad_A / self.S\n",
        "        return grad_beta, grad_A\n",
        "    \n",
        "    def compute_orthogonal_condition_normF(self, A):\n",
        "        return np.sum((np.matmul(A, A.T) - np.eye(A.shape[0]))**2)\n",
        "\n",
        "    def compute_orthogonal_condition_normF_gradient_A(self, A):\n",
        "        return -4.0*np.matmul(np.eye(A.shape[0]) - np.matmul(A, A.T), A)\n",
        "\n",
        "    def linear_l2_regression(self, A):\n",
        "        \"\"\"\n",
        "        O(d^2k+k^3) = O(k^3)\n",
        "        \"\"\"\n",
        "        beta = np.matmul(np.matmul(A.T,self.sum_RtdTRtd_dT_altD),A)\n",
        "        try:\n",
        "            beta = np.linalg.inv(beta)\n",
        "            beta = np.matmul(beta, np.matmul(A.T,self.sum_RtdTRt_dT_altN))\n",
        "            return beta\n",
        "        except:\n",
        "            print(f\"faced error\")\n",
        "            print(f\"going for least squared method to solve it\")\n",
        "            gamma = np.matmul(A.T,self.sum_RtdTRt_dT_altN)\n",
        "            beta = np.linalg.lstsq(beta,gamma)\n",
        "            return beta\n",
        "\n",
        "\n",
        "\n"
      ]
    },
    {
      "cell_type": "markdown",
      "source": [
        "# Logger "
      ],
      "metadata": {
        "id": "EaglZjMCm5UE"
      }
    },
    {
      "cell_type": "code",
      "source": [
        "!pip install gif"
      ],
      "metadata": {
        "id": "I6nNsKszPDTa"
      },
      "execution_count": null,
      "outputs": []
    },
    {
      "cell_type": "code",
      "source": [
        "!pip install --ignore-installed Pillow==9.0.0"
      ],
      "metadata": {
        "id": "8BtmR9Izu3tw"
      },
      "execution_count": null,
      "outputs": []
    },
    {
      "cell_type": "code",
      "source": [
        "import os\n",
        "import numpy as np\n",
        "import pandas as pd\n",
        "import seaborn as sns\n",
        "import matplotlib.pyplot as plt\n",
        "from PIL import Image\n",
        "import gif\n",
        "\n",
        "class Logger:\n",
        "    def __init__(self, log_name: str, data_handler:Data_Handler):\n",
        "        self.log_name = log_name\n",
        "        self.list_R = []\n",
        "        self.list_L = []\n",
        "        self.list_O = []\n",
        "        self.EA_RLO_logs = dict()\n",
        "        self.EA_archive_RLO = dict()\n",
        "\n",
        "        self.data_handler = data_handler\n",
        "        pass\n",
        "\n",
        "    def clear(self):\n",
        "        self.list_R = []\n",
        "        self.list_L = []\n",
        "        self.list_O = []\n",
        "        self.EA_RLO_logs = dict()\n",
        "        self.EA_archive_RLO = dict()\n",
        "        pass\n",
        "\n",
        "    def log_RLO(self, R, L, O):\n",
        "        self.list_L += [float(L)]\n",
        "        self.list_R += [float(R)]\n",
        "        self.list_O += [float(O)]\n",
        "        pass\n",
        "    \n",
        "    def log_EA_RLO(self,gen,R,L,O):\n",
        "        R = float(R)\n",
        "        L = float(L)\n",
        "        O = float(O)\n",
        "        if gen in self.EA_RLO_logs.keys():\n",
        "            self.EA_RLO_logs[gen][0].append(R)\n",
        "            self.EA_RLO_logs[gen][1].append(L)\n",
        "            self.EA_RLO_logs[gen][2].append(O)\n",
        "        else:\n",
        "            self.EA_RLO_logs[gen] =  [[R],[L],[O]]\n",
        "        pass  \n",
        "        \n",
        "    def log_EA_Population(self, gen, P): \n",
        "        R = [float(P[i].R) for i in range(len(P))]\n",
        "        L = [float(P[i].L) for i in range(len(P))]\n",
        "        O = [float(self.data_handler.compute_orthogonal_condition_normF(P[i].A)) for i in range(len(P))]\n",
        "        self.EA_RLO_logs[gen] = [R,L,O]\n",
        "\n",
        "    def log_archive(self,gen,Arch):\n",
        "        R = [float(Arch[i].R) for i in range(len(Arch))]\n",
        "        L = [float(Arch[i].L) for i in range(len(Arch))]\n",
        "        O = [float(self.data_handler.compute_orthogonal_condition_normF(Arch[i].A)) for i in range(len(Arch))]\n",
        "        self.EA_archive_RLO[gen] = [R,L,O]\n",
        "        pass\n",
        "    \n",
        "    def dump(self,folder):\n",
        "        if len(self.list_L) > 0:\n",
        "            df = pd.DataFrame()\n",
        "            df['R'] = self.list_R\n",
        "            df['L'] = self.list_L\n",
        "            df['O'] = self.list_O\n",
        "            fname = \"RLO_\"+self.log_name+\".csv\"\n",
        "            fpath = os.path.join(folder,fname)\n",
        "            df.to_csv(fpath, index = False)\n",
        "            print(f\" {self.log_name} : dumped ROL\")\n",
        "        \n",
        "        if len(self.EA_RLO_logs) > 0:\n",
        "            df = pd.DataFrame()\n",
        "            for k,v in self.EA_RLO_logs.items():\n",
        "                df[f\"{k}_R\"] = v[0]\n",
        "                df[f\"{k}_L\"] = v[1]\n",
        "                df[f\"{k}_O\"] = v[2]\n",
        "            fname = \"EARLO_\"+self.log_name+\".csv\"\n",
        "            fpath = os.path.join(folder,fname)\n",
        "            df.to_csv(fpath, index = False)\n",
        "            print(f\" {self.log_name} : dumped EARLO\")\n",
        "\n",
        "        if len(self.EA_archive_RLO) > 0:\n",
        "            l = []\n",
        "            for k,v in self.EA_archive_RLO.items():\n",
        "                l.append((f\"{k}_R\", pd.Series(v[0])))\n",
        "                l.append((f\"{k}_L\", pd.Series(v[1])))\n",
        "                l.append((f\"{k}_O\", pd.Series(v[2])))\n",
        "            df = pd.DataFrame(dict(l))\n",
        "            fname = \"EAarchiveRLO_\"+self.log_name+\".csv\"\n",
        "            fpath = os.path.join(folder,fname)\n",
        "            df.to_csv(fpath, index = False)\n",
        "            print(f\" {self.log_name} : dumped EAarchiveROL\")\n",
        "        pass\n",
        "\n",
        "    def load(self,rlo_file=None, earlo_file=None, eaarchiverl_file=None):\n",
        "        if rlo_file is not None:\n",
        "            df = pd.read_csv(rlo_file)\n",
        "            self.list_R = list(df['R'])\n",
        "            self.list_L = list(df['L'])\n",
        "            self.list_O = list(df['O'])\n",
        "        else:\n",
        "            self.list_R = []\n",
        "            self.list_L = []\n",
        "            self.list_O = []\n",
        "        \n",
        "        self.EA_RLO_logs = dict()\n",
        "        if earlo_file is not None:\n",
        "            df = pd.read_csv(earlo_file)\n",
        "            for k in df.columns:\n",
        "                g = int(k.split('_')[0])\n",
        "                if g in self.EA_RLO_logs.keys():\n",
        "                    continue\n",
        "                self.EA_RLO_logs[g] = [list(df[g+\"_R\"]),list(df[g+\"_L\"]),list(df[g+\"_O\"])]\n",
        "        \n",
        "        self.EA_archive_RLO = dict()\n",
        "        if eaarchiverl_file is not None:\n",
        "            df = pd.read_csv(eaarchiverl_file)\n",
        "            for k in df.columns:\n",
        "                g = int(k.split('_')[0])\n",
        "                if g in self.EA_archive_RLO.keys():\n",
        "                    continue\n",
        "                self.EA_archive_RLO[g] = [list(df[g+\"_R\"]),list(df[g+\"_L\"]),list(df[g+\"_O\"])]\n",
        "        pass\n",
        "\n",
        "\n",
        "    def plot_scatter_LR(self, x_scale=\"linear\", y_scale=\"linear\", save=False, file_name=\"fig.png\"):\n",
        "        sns.set_style(\"darkgrid\")\n",
        "        sns.set_palette(\"bright\")\n",
        "        x_label = \"Reward\"\n",
        "        y_label = \"Loss\"\n",
        "        ax = sns.scatterplot(x=self.list_R, y=self.list_L)\n",
        "        ax.set(xscale=x_scale, yscale=y_scale, xlabel=x_label, ylabel=y_label)\n",
        "        if save:\n",
        "            plt.savefig(file_name)\n",
        "        plt.show()\n",
        "\n",
        "    def dist_plot(self, save=False, filename='distplot.png'):\n",
        "        fig, (ax1, ax2) = plt.subplots(ncols=2, figsize=(10, 4))\n",
        "        sns.set_style('whitegrid')\n",
        "        sns.distplot(self.list_R, label='Reward', ax=ax1)\n",
        "        ax1.set(title='Distribution of Rewards')\n",
        "        sns.distplot(self.list_L, label='Loss', ax=ax2)\n",
        "        ax2.set(title='Distribution of Loss')\n",
        "        ax1.legend()\n",
        "        ax2.legend()\n",
        "        if save:\n",
        "            plt.savefig(filename)\n",
        "        plt.show()\n",
        "    \n",
        "    def get_gif_from_RL_log_dict(self, duration=200,style='seaborn',xscale='log',yscale='log',dpi=300,lam_margins=1.2, set_boundaries = False, use_archive_instead=False):\n",
        "        plt.style.use(style)\n",
        "        gif.options.matplotlib[\"dpi\"] = dpi\n",
        "\n",
        "        def get_min_max_limits(lam):\n",
        "            R_max = -float('inf')\n",
        "            R_min = float('inf')\n",
        "            L_max = -float('inf')\n",
        "            L_min = float('inf')\n",
        "            if use_archive_instead:\n",
        "                for k,v in self.EA_archive_RLO.items():\n",
        "                    R_max = max(np.max(v[0]),R_max)\n",
        "                    R_min = min(np.min(v[0]),R_min)\n",
        "                    L_max = max(np.max(v[1]),L_max)\n",
        "                    L_min = min(np.min(v[1]),L_min)\n",
        "            else:\n",
        "                for k,v in self.EA_RLO_logs.items():\n",
        "                    R_max = max(np.max(v[0]),R_max)\n",
        "                    R_min = min(np.min(v[0]),R_min)\n",
        "                    L_max = max(np.max(v[1]),L_max)\n",
        "                    L_min = min(np.min(v[1]),L_min)\n",
        "            return 0.5*np.asarray([  (1+lam)*R_min+(1-lam)*R_max, (1-lam)*R_min+(1+lam)*R_max, (1+lam)*L_min+(1-lam)*L_max, (1-lam)*L_min+(1+lam)*L_max])\n",
        "            \n",
        "        limits = get_min_max_limits(lam_margins)\n",
        "        @gif.frame\n",
        "        def plot(key,value):\n",
        "            # sns.set(style=\"whitegrid\")\n",
        "            fig, ax = plt.subplots()\n",
        "            ax.scatter(x=value[0], y=value[1], color='red')\n",
        "            if set_boundaries:\n",
        "                ax.set_xlim([limits[0], limits[1]])\n",
        "                ax.set_ylim([limits[2], limits[3]])\n",
        "            ax.set_xlabel('Reward')\n",
        "            ax.set_ylabel('Loss')\n",
        "            ax.set_yscale(yscale)\n",
        "            ax.set_xscale(xscale)\n",
        "            ax.set_title(f\"{self.log_name} Generation : {key}\")\n",
        "        frames = []\n",
        "        if use_archive_instead:\n",
        "            frames += [ plot(k,v) for k,v in self.EA_archive_RLO.items()]\n",
        "        else:\n",
        "            frames += [ plot(k,v) for k,v in self.EA_RLO_logs.items()]\n",
        "        filename = f\"{self.log_name}\" + \".gif\"\n",
        "        gif.save(frames, filename, duration=duration)\n",
        "        pass\n",
        "\n",
        "    def get_tragectory_gif(self,duration=200,style='seaborn',xscale='log',yscale='log',dpi=300,lam_margins=1.2,set_boundaries = False):\n",
        "        plt.style.use(style)\n",
        "        gif.options.matplotlib[\"dpi\"] = dpi\n",
        "\n",
        "        def get_min_max_limits(lam):\n",
        "            R_max = -float('inf')\n",
        "            R_min = float('inf')\n",
        "            L_max = -float('inf')\n",
        "            L_min = float('inf')\n",
        "            for k,v in self.EA_RLO_logs.items():\n",
        "                R_max = max(np.max(v[0]),R_max)\n",
        "                R_min = min(np.min(v[0]),R_min)\n",
        "                L_max = max(np.max(v[1]),L_max)\n",
        "                L_min = min(np.min(v[1]),L_min)\n",
        "            return 0.5*np.asarray([  (1+lam)*R_min+(1-lam)*R_max, (1-lam)*R_min+(1+lam)*R_max, (1+lam)*L_min+(1-lam)*L_max, (1-lam)*L_min+(1+lam)*L_max])\n",
        "        \n",
        "        limits = get_min_max_limits(lam_margins)\n",
        "        @gif.frame\n",
        "        def plot(gen_i):\n",
        "            fig, ax = plt.subplots()\n",
        "            for point in range(len(self.EA_RLO_logs[gen_i][0])):\n",
        "                point_Rs = [self.EA_RLO_logs[gg][0][point] for gg in range(gen_i+1)]\n",
        "                points_Ls = [self.EA_RLO_logs[gg][1][point] for gg in range(gen_i+1)]\n",
        "                # ax.plot(point_Rs, points_Ls, label=f'Point {point+1}')\n",
        "                ax.plot(point_Rs, points_Ls)\n",
        "                if set_boundaries:\n",
        "                    ax.set_xlim([limits[0], limits[1]])\n",
        "                    ax.set_ylim([limits[2], limits[3]])\n",
        "\n",
        "            # Set plot properties\n",
        "            ax.set_xlabel('Reward')\n",
        "            ax.set_ylabel('Loss')\n",
        "            ax.set_title(f\"Trajectories of Points: {gen_i}\")\n",
        "            ax.set_yscale(yscale)\n",
        "            ax.set_xscale(xscale)\n",
        "\n",
        "        gen_max = len(self.EA_RLO_logs)\n",
        "        frames = [ plot(i) for i in range(gen_max)]\n",
        "        filename = f\"{self.log_name}-tragectory\" + \".gif\"\n",
        "        gif.save(frames, filename, duration=duration)\n",
        "        pass\n",
        "\n",
        "    def show_tragetctory_plot(self,style='seaborn',xscale='log',yscale='log'):\n",
        "        plt.style.use(style)\n",
        "        fig, ax = plt.subplots()\n",
        "        gen_max = len(self.EA_RLO_logs)\n",
        "        # Plot each point's trajectory as a line\n",
        "        for point in range(len(self.EA_RLO_logs[0][0])):\n",
        "            point_Rs = [self.EA_RLO_logs[gg][0][point] for gg in range(gen_max)]\n",
        "            points_Ls = [self.EA_RLO_logs[gg][1][point] for gg in range(gen_max)]\n",
        "            ax.plot(point_Rs, points_Ls, label=f'Point {point+1}')\n",
        "\n",
        "        # Set plot properties\n",
        "        ax.set_xlabel('Reward')\n",
        "        ax.set_ylabel('Loss')\n",
        "        ax.set_title('Trajectories of Points')\n",
        "        ax.set_yscale(yscale)\n",
        "        ax.set_xscale(xscale)\n",
        "        # ax.legend()\n",
        "        plt.show()\n",
        "\n",
        "    def get_grad_gif(self,duration=200,style='seaborn',xscale='log',yscale='log',dpi=300,lam_margins=1.2,set_boundaries = False):\n",
        "        plt.style.use(style)\n",
        "        gif.options.matplotlib[\"dpi\"] = dpi\n",
        "\n",
        "        def get_min_max_limits(lam):\n",
        "            R_max = -float('inf')\n",
        "            R_min = float('inf')\n",
        "            L_max = -float('inf')\n",
        "            L_min = float('inf')\n",
        "            for k,v in self.EA_RLO_logs.items():\n",
        "                R_max = max(np.max(v[0]),R_max)\n",
        "                R_min = min(np.min(v[0]),R_min)\n",
        "                L_max = max(np.max(v[1]),L_max)\n",
        "                L_min = min(np.min(v[1]),L_min)\n",
        "            return 0.5*np.asarray([  (1+lam)*R_min+(1-lam)*R_max, (1-lam)*R_min+(1+lam)*R_max, (1+lam)*L_min+(1-lam)*L_max, (1-lam)*L_min+(1+lam)*L_max])\n",
        "        \n",
        "        limits = get_min_max_limits(lam_margins)\n",
        "        @gif.frame\n",
        "        def plot(gen_i):\n",
        "            fig, ax = plt.subplots()\n",
        "            for point in range(len(self.EA_RLO_logs[gen_i][0])):\n",
        "                point_Rs = [self.EA_RLO_logs[gg][0][point] for gg in range(gen_i-1,gen_i+1)]\n",
        "                points_Ls = [self.EA_RLO_logs[gg][1][point] for gg in range(gen_i-1,gen_i+1)]\n",
        "                # ax.plot(point_Rs, points_Ls, label=f'Point {point+1}')\n",
        "                ax.plot(point_Rs, points_Ls)\n",
        "                if set_boundaries:\n",
        "                    ax.set_xlim([limits[0], limits[1]])\n",
        "                    ax.set_ylim([limits[2], limits[3]])\n",
        "\n",
        "            # Set plot properties\n",
        "            ax.set_xlabel('Reward')\n",
        "            ax.set_ylabel('Loss')\n",
        "            ax.set_title(f\"Trajectories of Points: {gen_i}\")\n",
        "            ax.set_yscale(yscale)\n",
        "            ax.set_xscale(xscale)\n",
        "\n",
        "        gen_max = len(self.EA_RLO_logs)\n",
        "        frames = [ plot(i) for i in range(1,gen_max)]\n",
        "        filename = f\"{self.log_name}-directiongrad\" + \".gif\"\n",
        "        gif.save(frames, filename, duration=duration)\n",
        "        pass\n",
        "\n",
        "\n",
        "    def pareto_front_plot(self):\n",
        "        \"\"\"\n",
        "        using all the solution ever generated in a method\n",
        "        \"\"\"\n",
        "        pass\n",
        "\n",
        "    def get_3d_graph(self):\n",
        "        pass\n",
        "\n",
        "    def compute_core_statistics(folder, self, last_from_list__=200, beyond_gen=10):\n",
        "        if len(self.list_L) > 0:\n",
        "            df = pd.DataFrame()\n",
        "            df['R'] = self.list_R[-last_from_list__:]\n",
        "            df['L'] = list(-np.log(self.list_L[-last_from_list__:]))\n",
        "            df['O'] = list(-np.log(self.list_O[-last_from_list__:]))\n",
        "            dfd = df.describe()\n",
        "            print(dfd)\n",
        "\n",
        "            fname = f\"CORE_STATS_{last_from_list__}_RLO_\"+self.log_name+\".csv\"\n",
        "            fpath = os.path.join(folder,fname)\n",
        "            dfd.to_csv(fpath, index = False)\n",
        "            print(f\" {fname} : dumped ROL\")\n",
        "        \n",
        "        if len(self.EA_RLO_logs) > 0:\n",
        "            from_dict = self.EA_RLO_logs\n",
        "\n",
        "            df = pd.DataFrame()\n",
        "            df['R'] = []\n",
        "            df['L'] = []\n",
        "            df['O'] = []\n",
        "            df['gen'] = []\n",
        "            for k,v in from_dict.items():\n",
        "                if k < beyond_gen:\n",
        "                    continue\n",
        "                df1 = pd.DataFrame()\n",
        "                df1[\"R\"] = v[0]\n",
        "                df1[\"L\"] = list(-np.log(v[1]))\n",
        "                df1[\"O\"] = list(-np.log(v[2]))\n",
        "                df1['gen'] = len(v[0])*[k]\n",
        "                df = pd.concat([df, df1], axis=0)\n",
        "            dfd = df.describe()\n",
        "            grouped_df = df.groupby('gen').mean()\n",
        "            print(dfd)\n",
        "            print(grouped_df)\n",
        "\n",
        "            fname = \"CORE_STATS_EARLO_{beyond_gen}_\"+self.log_name+\".csv\"\n",
        "            fpath = os.path.join(folder,fname)\n",
        "            dfd.to_csv(fpath, index = False)\n",
        "            print(f\" {fname} : dumped EARLO\")\n",
        "\n",
        "            fname = \"gen_change_EARLO_{beyond_gen}_\"+self.log_name+\".csv\"\n",
        "            fpath = os.path.join(folder,fname)\n",
        "            dfd.to_csv(fpath, index = False)\n",
        "            print(f\" {fname} : dumped change gen EARLO\")\n",
        "\n",
        "        if len(self.EA_archive_RLO) > 0:\n",
        "            from_dict = self.EA_archive_RLO\n",
        "\n",
        "            df = pd.DataFrame()\n",
        "            df['R'] = []\n",
        "            df['L'] = []\n",
        "            df['O'] = []\n",
        "            df['gen'] = []\n",
        "            for k,v in from_dict.items():\n",
        "                if k < beyond_gen:\n",
        "                    continue\n",
        "                df1 = pd.DataFrame()\n",
        "                df1[\"R\"] = v[0]\n",
        "                df1[\"L\"] = list(-np.log(v[1]))\n",
        "                df1[\"O\"] = list(-np.log(v[2]))\n",
        "                df1['gen'] = len(v[0])*[k]\n",
        "                df = pd.concat([df, df1], axis=0)\n",
        "            dfd = df.describe()\n",
        "            grouped_df = df.groupby('gen').mean()\n",
        "            print(dfd)\n",
        "            print(grouped_df)\n",
        "\n",
        "            fname = \"CORE_STATS_EAarchiveROL_{beyond_gen}_\"+self.log_name+\".csv\"\n",
        "            fpath = os.path.join(folder,fname)\n",
        "            dfd.to_csv(fpath, index = False)\n",
        "            print(f\" {fname} : dumped EAarchiveROL\")\n",
        "\n",
        "            fname = \"gen_change_EAarchiveROL_{beyond_gen}_\"+self.log_name+\".csv\"\n",
        "            fpath = os.path.join(folder,fname)\n",
        "            dfd.to_csv(fpath, index = False)\n",
        "            print(f\" {fname} : dumped change gen EAarchiveROL\")\n",
        "        pass"
      ],
      "metadata": {
        "id": "ayNzrUuAm7Qu"
      },
      "execution_count": 13,
      "outputs": []
    },
    {
      "cell_type": "markdown",
      "source": [
        "# EA Helpers"
      ],
      "metadata": {
        "id": "Iv9W7cgWgHj6"
      }
    },
    {
      "cell_type": "code",
      "source": [
        "import numpy as np\n",
        "from tqdm import tqdm\n",
        "\n",
        "class Solution:\n",
        "    error_eps = 1e-6\n",
        "    def __init__(self):\n",
        "        self.beta = None\n",
        "        self.A = None\n",
        "\n",
        "        self.R = None\n",
        "        self.L = None\n",
        "        self.obj = [-self.R, self.L]\n",
        "\n",
        "        self.crowding_distance = None\n",
        "        self.domination_count = None\n",
        "\n",
        "        self.best_beta = None\n",
        "        self.best_A = None\n",
        "        self.best_R = None\n",
        "        self.best_L = None\n",
        "        self.best_obj = [-self.best_R, self.best_L]\n",
        "\n",
        "        self.vel_A = None\n",
        "        self.vel_beta = None\n",
        "\n",
        "        pass\n",
        "\n",
        "    def __init__(self, beta, A,vel_beta =None, vel_A=None):\n",
        "        self.beta = beta\n",
        "        self.A = A\n",
        "        self.vel_beta = vel_beta\n",
        "        self.vel_A = vel_A\n",
        "        pass\n",
        "\n",
        "    def __str__(self):\n",
        "        return f\"{self.R},{self.L}\"\n",
        "\n",
        "    def assign_RL(self, R, L):\n",
        "        self.R = R\n",
        "        self.L = L\n",
        "        self.obj = [-self.R, self.L]\n",
        "        pass\n",
        "\n",
        "    def first_set_RL_NSGA(self, R, L):\n",
        "        self.R = R\n",
        "        self.L = L\n",
        "        self.obj = [-self.R, self.L]\n",
        "        pass\n",
        "\n",
        "    def first_set_RL_MOPSO(self, R, L):\n",
        "        self.R = R\n",
        "        self.L = L\n",
        "        self.obj = [-self.R, self.L]\n",
        "\n",
        "        self.best_beta = self.beta\n",
        "        self.best_A = self.A\n",
        "        self.best_R = R\n",
        "        self.best_L = L\n",
        "        self.best_obj = [-self.best_R, self.best_L]\n",
        "        pass\n",
        "\n",
        "    def set_best_pos_obj_MOPSO(self, _beta, _A,_R, _L ):\n",
        "        self.best_beta = _beta\n",
        "        self.best_A = _A\n",
        "        self.best_R = _R\n",
        "        self.best_L = _L\n",
        "        self.best_obj = [-self.best_R, self.best_L]\n",
        "        pass\n",
        "    \n",
        "    def update_best_pos_obj_MOPSO(self,pos_candi):\n",
        "        if pos_candi.dominates(self):\n",
        "            self.set_best_pos_obj_MOPSO(pos_candi.beta,pos_candi.A,pos_candi.R,pos_candi.L)\n",
        "            return True\n",
        "        elif not self.dominates(pos_candi):\n",
        "            if np.random.random() > 0.5:\n",
        "                self.set_best_pos_obj_MOPSO(pos_candi.beta,pos_candi.A,pos_candi.R,pos_candi.L)\n",
        "                return True\n",
        "        return False\n",
        "\n",
        "    def dominates(self,other):\n",
        "        diff = False\n",
        "        for j in range(2):\n",
        "            if self.obj[j] > other.obj[j] + Solution.error_eps:\n",
        "                return False\n",
        "            elif self.obj[j] < other.obj[j] - Solution.error_eps:\n",
        "                diff = True\n",
        "        return diff\n",
        "    \n",
        "def nondominated_subset(P):\n",
        "    n_p = len(P)\n",
        "    for p in P:\n",
        "        p.domination_count = 0\n",
        "    cand_ids = set(range(n_p))\n",
        "    for i in range(n_p):\n",
        "        if i not in cand_ids:\n",
        "            continue\n",
        "        dom_ids = set()\n",
        "        for j in cand_ids:\n",
        "            if j==i:\n",
        "                continue\n",
        "            if P[i].dominates(P[j]):\n",
        "                dom_ids.add(j)\n",
        "        cand_ids.difference_update(dom_ids)\n",
        "    non_dom = [P[i] for i in cand_ids]\n",
        "    return non_dom\n",
        "\n",
        "def non_dominated_sorting(P, serialize = False):\n",
        "    n_p = len(P)\n",
        "    for p in P:\n",
        "        p.domination_count = 0\n",
        "    for i in range(len(P)):\n",
        "        for j in range(len(P)):\n",
        "            if i!=j:\n",
        "                if P[i].dominates(P[j]):\n",
        "                    P[j].domination_count += 1\n",
        "    P = sorted(P, key=lambda p:p.domination_count)\n",
        "\n",
        "    F_list = [[P[0]]]\n",
        "    last_dom_c, i =P[0].domination_count,1\n",
        "    while i < n_p:\n",
        "        if P[i].domination_count == last_dom_c:\n",
        "            F_list[-1].append(P[i])\n",
        "        else:\n",
        "            F_list.append([P[i]])\n",
        "            last_dom_c = P[i].domination_count\n",
        "        i+=1\n",
        "    \n",
        "    F_list_return = []\n",
        "    if serialize:\n",
        "        for F_i in F_list:\n",
        "            F_list_return += F_i\n",
        "    else:\n",
        "        F_list_return = F_list\n",
        "    \n",
        "    return F_list_return\n",
        "\n",
        "def compute_crowding_distance(P, is_nondominant=False, serialize=False, to_sort=False):\n",
        "    F_list = []\n",
        "    if not is_nondominant:\n",
        "        F_list = non_dominated_sorting(P)\n",
        "    else:\n",
        "        F_list = [P]\n",
        "    \n",
        "    for F_i in F_list:\n",
        "        for p in F_i:\n",
        "            p.crowding_distance = 0\n",
        "        for j in range(2):\n",
        "            F_i = sorted(F_i,key= lambda p: p.obj[j])\n",
        "            for k in range(1, len(F_i)-1):\n",
        "                F_i[k].crowding_distance += abs(F_i[k +1].obj[j]-F_i[k-1].obj[j])\n",
        "            F_i[0].crowding_distance = np.inf\n",
        "            F_i[len(F_i)-1].crowding_distance = np.inf\n",
        "    \n",
        "    if is_nondominant:\n",
        "        if to_sort:\n",
        "            F_list[0] = sorted(F_list[0], key=lambda p:p.crowding_distance)\n",
        "        return F_list[0]\n",
        "    else:\n",
        "        if serialize:\n",
        "            F_list_return = []\n",
        "            for F_i in F_list:\n",
        "                F_list_return+=F_i\n",
        "            return F_list_return\n",
        "        else:\n",
        "            return F_list"
      ],
      "metadata": {
        "id": "flNMFVfQgJW5"
      },
      "execution_count": 14,
      "outputs": []
    },
    {
      "cell_type": "markdown",
      "source": [
        "# NSGA-II"
      ],
      "metadata": {
        "id": "5XhQPoQRgAxp"
      }
    },
    {
      "cell_type": "markdown",
      "source": [
        "## Code"
      ],
      "metadata": {
        "id": "z4v3MyXghAwA"
      }
    },
    {
      "cell_type": "code",
      "source": [
        "import numpy as np\n",
        "import copy \n",
        "from tqdm import tqdm\n",
        "\n",
        "class NSGA2:\n",
        "\n",
        "    def __init__(self, data_handler: Data_Handler):\n",
        "        self.n = data_handler.n\n",
        "        self.k = data_handler.k\n",
        "        self.d = data_handler.d\n",
        "        self.T = data_handler.T\n",
        "        self.S = data_handler.S\n",
        "        self.data_handler = data_handler\n",
        "        pass\n",
        "    \n",
        "    def get_random_solution_population(self,N):\n",
        "        P = []\n",
        "        for i in range(N):\n",
        "            A = random_matrix((self.d,self.k))\n",
        "            A = gram_schmidt_algorithm(A)\n",
        "            beta = self.data_handler.linear_l2_regression(A)\n",
        "            P.append(Solution(beta,A))\n",
        "        return P\n",
        "\n",
        "    def get_binary_tournament_selection(self,sample_size,N,p_t):\n",
        "        i = 0\n",
        "        p_tresh = p_t\n",
        "        sample = set()\n",
        "        while len(sample) < sample_size and i < N:\n",
        "            if np.random.random() < p_tresh:\n",
        "                sample.add(i)\n",
        "            p_tresh = p_tresh*(1-p_t)\n",
        "            i+=1\n",
        "\n",
        "        while len(sample) < sample_size:\n",
        "            sample.add(np.random.randint(0,N))\n",
        "\n",
        "        return sample\n",
        "    \n",
        "    def get_offspring_population(self, N, P, p_c, p_m, p_t, mutation_step_size,crossover_step_size, use_reg_for_crossover):\n",
        "        C = []\n",
        "        for i in range(N//2):\n",
        "            sids = list(self.get_binary_tournament_selection(2,N,p_t))\n",
        "            S1, S2 = P[sids[0]], P[sids[1]]\n",
        "\n",
        "            if np.random.random() < p_c:\n",
        "                S1,S2 = self.crossover(S1,S2,crossover_step_size, use_reg_for_crossover)\n",
        "            if np.random.random() < p_m:\n",
        "                S1 = self.mutate(S1,mutation_step_size)\n",
        "                S2 = self.mutate(S2,mutation_step_size)\n",
        "            C += [S1,S2]\n",
        "        return C\n",
        "\n",
        "    def crossover(self,S1:Solution,S2:Solution,crossover_step_size,use_reg_for_crossover):\n",
        "        C1, C2 = copy.deepcopy(S1), copy.deepcopy(S2)\n",
        "        deltaA = crossover_step_size*(C2.A -C1.A)\n",
        "        T_1 =  0.5*(np.matmul(deltaA.T,C1.A) - np.matmul(C1.A.T,deltaA))\n",
        "        T_2 =  0.5*(-np.matmul(deltaA.T,C2.A) + np.matmul(C2.A.T,deltaA))\n",
        "        Q1 = cayley_transformation(T_1)\n",
        "        Q2 = cayley_transformation(T_2)\n",
        "        C1.A = np.matmul(C1.A,Q1)\n",
        "        C2.A = np.matmul(C2.A,Q2)\n",
        "\n",
        "        deltabeta = crossover_step_size*(C2.beta -C1.beta)\n",
        "        if use_reg_for_crossover:\n",
        "            C1.beta = self.data_handler.linear_l2_regression(C1.A)\n",
        "            C2.beta = self.data_handler.linear_l2_regression(C2.A)\n",
        "        else:\n",
        "            C1.beta = C1.beta + deltabeta\n",
        "            C2.beta = C2.beta - deltabeta\n",
        "        return C1,C2\n",
        "\n",
        "    def mutate(self,S:Solution,mutation_step_size):\n",
        "        Sm = copy.deepcopy(S)\n",
        "        deltabeta = random_matrix((self.k,1))\n",
        "        deltaA = random_matrix((self.d,self.k))\n",
        "        T_ =  0.5*mutation_step_size*(np.matmul(deltaA.T,Sm.A) - np.matmul(Sm.A.T,deltaA))\n",
        "        Q =  cayley_transformation(T_)\n",
        "        Sm.A = np.matmul(Sm.A,Q)\n",
        "        Sm.beta = Sm.beta+mutation_step_size*deltabeta\n",
        "        return Sm\n",
        "\n",
        "    def run(self, N, G, p_c, p_m,p_t, mutation_step_size,crossover_step_size,use_reg_for_crossover:bool,logger:Logger=None):\n",
        "        \"\"\"\n",
        "        p_t ~ 1/n add a factor of n to algorithm i.e. 1/p_t so keep p_t constant\n",
        "        \"\"\"\n",
        "        assert(N%2==0)\n",
        "        P = self.get_random_solution_population(N)\n",
        "        for p in P:\n",
        "            _R = self.data_handler.compute_reward(p.beta,p.A)\n",
        "            _L = self.data_handler.compute_loss(p.beta,p.A)\n",
        "            p.first_set_RL_NSGA(_R,_L)\n",
        "        P = non_dominated_sorting(P,True)\n",
        "        if logger is not None:\n",
        "            logger.log_EA_Population(0,P)\n",
        "        for gen in tqdm(range(G), desc=\"Generation of NSGA2\"):\n",
        "            C = self.get_offspring_population(N, P, p_c, p_m,p_t,mutation_step_size,crossover_step_size, use_reg_for_crossover)\n",
        "            for c in C:\n",
        "                _R = self.data_handler.compute_reward(c.beta,c.A)\n",
        "                _L = self.data_handler.compute_loss(c.beta,c.A)\n",
        "                c.first_set_RL_NSGA(_R,_L)\n",
        "            F_list = non_dominated_sorting(P+C)\n",
        "            _P = []\n",
        "            n_gen = len(F_list)\n",
        "            i = 0\n",
        "            while i < n_gen and len(_P)+len(F_list[i]) < N:\n",
        "                _P += F_list[i]\n",
        "                i += 1\n",
        "            if len(_P) < N and i < n_gen:\n",
        "                F_list[i] = compute_crowding_distance(F_list[i],is_nondominant=True,serialize=False,to_sort=True)\n",
        "                _P += F_list[i][-(N-len(_P)):]\n",
        "            if logger is not None:\n",
        "                logger.log_EA_Population(gen+1,_P)\n",
        "            P = _P\n",
        "        return P\n",
        "    \n",
        "    def get_string(self, N, G, p_c, p_m, p_t, mutation_step_size,crossover_step_size, use_reg_for_crossover):\n",
        "        return f\"NSGAII[{1*use_reg_for_crossover},{N},{G},{int(1000*p_c)},{int(1000*p_m)},{int(1000*p_t)},{int(1000*mutation_step_size)},{int(1000*crossover_step_size)}]\""
      ],
      "metadata": {
        "id": "LK10LxFtgCq-"
      },
      "execution_count": 15,
      "outputs": []
    },
    {
      "cell_type": "markdown",
      "source": [
        "## Experiment"
      ],
      "metadata": {
        "id": "twx78hPYhDK5"
      }
    },
    {
      "cell_type": "code",
      "source": [
        "n = 50\n",
        "k = 21\n",
        "d = 20\n",
        "T = 600\n",
        "assert(T<_datam.shape[1])\n",
        "S = _datam.shape[1]-T\n",
        "\n",
        "dh = Data_Handler(n,k,d,T,S,_datam)"
      ],
      "metadata": {
        "id": "7rPPdB6WhI59"
      },
      "execution_count": 16,
      "outputs": []
    },
    {
      "cell_type": "markdown",
      "source": [
        "#### Without Regression"
      ],
      "metadata": {
        "id": "ysEjz9qIrd7v"
      }
    },
    {
      "cell_type": "code",
      "source": [
        "pop_size = 50\n",
        "generations = 100\n",
        "prob_crossover = 1\n",
        "prob_mutation = 0.2\n",
        "prob_tournament = 0.1\n",
        "mutation_setp_size = 1e-2\n",
        "crossover_setp_size = 1e-2\n",
        "use_reg_for_crossover = False"
      ],
      "metadata": {
        "id": "GELSL5mV7l2I"
      },
      "execution_count": 25,
      "outputs": []
    },
    {
      "cell_type": "code",
      "source": [
        "nsga2 = NSGA2(dh)\n",
        "logger_name = nsga2.get_string(pop_size,\n",
        "              generations,\n",
        "              prob_crossover,\n",
        "              prob_mutation,\n",
        "              prob_tournament,\n",
        "              mutation_setp_size,\n",
        "              crossover_setp_size,\n",
        "              use_reg_for_crossover) + '-' + dh.get_string()\n",
        "logger_nsga2 = Logger(logger_name,dh)"
      ],
      "metadata": {
        "id": "LD0FLjGc2cHG"
      },
      "execution_count": 22,
      "outputs": []
    },
    {
      "cell_type": "code",
      "source": [
        "P = nsga2.run(pop_size,\n",
        "              generations,\n",
        "              prob_crossover,\n",
        "              prob_mutation,\n",
        "              prob_tournament,\n",
        "              mutation_setp_size,\n",
        "              crossover_setp_size,\n",
        "              use_reg_for_crossover,\n",
        "              logger_nsga2)"
      ],
      "metadata": {
        "colab": {
          "base_uri": "https://localhost:8080/"
        },
        "id": "ycPcQEJW8gMB",
        "outputId": "a8a25fb7-3910-40a7-eca8-4fc83af1c7c3"
      },
      "execution_count": 23,
      "outputs": [
        {
          "output_type": "stream",
          "name": "stderr",
          "text": [
            "Generation of NSGA2: 100%|██████████| 50/50 [01:20<00:00,  1.61s/it]\n"
          ]
        }
      ]
    },
    {
      "cell_type": "code",
      "source": [
        "logger_nsga2.dump(RESULTS_FOLDER)"
      ],
      "metadata": {
        "id": "mHT3D-my2kr9"
      },
      "execution_count": null,
      "outputs": []
    },
    {
      "cell_type": "code",
      "source": [
        "for pop_size_i in [100, 200, 500] :\n",
        "  nsga2 = NSGA2(dh)\n",
        "  logger_name = nsga2.get_string(pop_size_i,\n",
        "                generations,\n",
        "                prob_crossover,\n",
        "                prob_mutation,\n",
        "                prob_tournament,\n",
        "                mutation_setp_size,\n",
        "                crossover_setp_size,\n",
        "                use_reg_for_crossover) + '-' + dh.get_string()\n",
        "  logger_nsga2 = Logger(logger_name,dh)\n",
        "  P = nsga2.run(pop_size_i,\n",
        "                generations,\n",
        "                prob_crossover,\n",
        "                prob_mutation,\n",
        "                prob_tournament,\n",
        "                mutation_setp_size,\n",
        "                crossover_setp_size,\n",
        "                use_reg_for_crossover,\n",
        "                logger_nsga2)\n",
        "  logger_nsga2.dump(RESULTS_FOLDER)"
      ],
      "metadata": {
        "id": "oelqAGUl7Cv4"
      },
      "execution_count": null,
      "outputs": []
    },
    {
      "cell_type": "code",
      "source": [],
      "metadata": {
        "id": "JJJj-Spx66S_"
      },
      "execution_count": null,
      "outputs": []
    },
    {
      "cell_type": "code",
      "source": [
        "logger_nsga2.get_gif_from_RL_log_dict(duration=200,xscale='linear',yscale='log',set_boundaries=False)"
      ],
      "metadata": {
        "id": "uTRCCb6s_4Rb"
      },
      "execution_count": null,
      "outputs": []
    },
    {
      "cell_type": "markdown",
      "source": [
        "#### With Regression"
      ],
      "metadata": {
        "id": "3OmKyBuDrlTI"
      }
    },
    {
      "cell_type": "code",
      "source": [
        "pop_size = 100\n",
        "generations = 100\n",
        "prob_crossover = 1\n",
        "prob_mutation = 0.2\n",
        "prob_tournament = 0.1\n",
        "mutation_setp_size = 1e-2\n",
        "crossover_setp_size = 1e-2\n",
        "use_reg_for_crossover = True"
      ],
      "metadata": {
        "id": "l4BGxX4brlTJ"
      },
      "execution_count": 17,
      "outputs": []
    },
    {
      "cell_type": "code",
      "source": [
        "nsga2 = NSGA2(dh)\n",
        "logger_name = nsga2.get_string(pop_size,\n",
        "              generations,\n",
        "              prob_crossover,\n",
        "              prob_mutation,\n",
        "              prob_tournament,\n",
        "              mutation_setp_size,\n",
        "              crossover_setp_size,\n",
        "              use_reg_for_crossover) + '-' + dh.get_string()\n",
        "logger_nsga2 = Logger(logger_name,dh)"
      ],
      "metadata": {
        "id": "FGcPCbGbrlTJ"
      },
      "execution_count": 28,
      "outputs": []
    },
    {
      "cell_type": "code",
      "source": [
        "P = nsga2.run(pop_size,\n",
        "              generations,\n",
        "              prob_crossover,\n",
        "              prob_mutation,\n",
        "              prob_tournament,\n",
        "              mutation_setp_size,\n",
        "              crossover_setp_size,\n",
        "              use_reg_for_crossover,\n",
        "              logger_nsga2)"
      ],
      "metadata": {
        "id": "jlAGbEpPrlTK"
      },
      "execution_count": null,
      "outputs": []
    },
    {
      "cell_type": "code",
      "source": [
        "for pop_size_i in [100, 200, 500] :\n",
        "  nsga2 = NSGA2(dh)\n",
        "  logger_name = nsga2.get_string(pop_size_i,\n",
        "                generations,\n",
        "                prob_crossover,\n",
        "                prob_mutation,\n",
        "                prob_tournament,\n",
        "                mutation_setp_size,\n",
        "                crossover_setp_size,\n",
        "                use_reg_for_crossover) + '-' + dh.get_string()\n",
        "  logger_nsga2 = Logger(logger_name,dh)\n",
        "  P = nsga2.run(pop_size_i,\n",
        "                generations,\n",
        "                prob_crossover,\n",
        "                prob_mutation,\n",
        "                prob_tournament,\n",
        "                mutation_setp_size,\n",
        "                crossover_setp_size,\n",
        "                use_reg_for_crossover,\n",
        "                logger_nsga2)\n",
        "  logger_nsga2.dump(RESULTS_FOLDER)"
      ],
      "metadata": {
        "id": "QkU5fWRv7Be4"
      },
      "execution_count": null,
      "outputs": []
    },
    {
      "cell_type": "code",
      "source": [],
      "metadata": {
        "id": "WIkI83sc7Bb6"
      },
      "execution_count": null,
      "outputs": []
    },
    {
      "cell_type": "code",
      "source": [
        "logger_nsga2.get_gif_from_RL_log_dict(duration=200,xscale='linear',yscale='log',set_boundaries=False)"
      ],
      "metadata": {
        "id": "LI_6Z9uWrlTK"
      },
      "execution_count": null,
      "outputs": []
    },
    {
      "cell_type": "code",
      "source": [
        "logger_nsga2.EA_RLO_logs[0] == logger_nsga2.EA_RLO_logs[19]"
      ],
      "metadata": {
        "id": "scDeQMJyrlTL"
      },
      "execution_count": null,
      "outputs": []
    },
    {
      "cell_type": "code",
      "source": [],
      "metadata": {
        "id": "_XcqHDlzrlTL"
      },
      "execution_count": null,
      "outputs": []
    },
    {
      "cell_type": "markdown",
      "source": [
        "# MOPSO"
      ],
      "metadata": {
        "id": "W6YRh1BygDqT"
      }
    },
    {
      "cell_type": "markdown",
      "source": [
        "## Code"
      ],
      "metadata": {
        "id": "SVPLiridhFZo"
      }
    },
    {
      "cell_type": "code",
      "source": [
        "import numpy as np\n",
        "from tqdm import tqdm\n",
        "import copy\n",
        "\n",
        "class MOPSO:\n",
        "    def __init__(self, data_handler: Data_Handler):\n",
        "        self.n = data_handler.n\n",
        "        self.k = data_handler.k\n",
        "        self.d = data_handler.d\n",
        "        self.T = data_handler.T\n",
        "        self.S = data_handler.S\n",
        "        self.data_handler = data_handler\n",
        "        pass\n",
        "\n",
        "    def initialize_population_and_velocity(self,N):\n",
        "        P = []\n",
        "        for i in range(N):\n",
        "            A = random_matrix((self.d,self.k))\n",
        "            A = gram_schmidt_algorithm(A)\n",
        "            beta = self.data_handler.linear_l2_regression(A)\n",
        "            vel_beta = self.data_handler.compute_reward_gradient_beta(beta, A)\n",
        "            vel_A = self.data_handler.compute_reward_gradient_A(beta, A)\n",
        "            P+=[Solution(beta,A,vel_beta,vel_A)]\n",
        "        return P\n",
        "\n",
        "    def update_velocity(self, p:Solution, best_global:Solution,w,c_1,c_2):\n",
        "        r1, r2 = np.random.random(), np.random.random()\n",
        "        p.vel_beta = w*best_global.vel_beta+c_1*r1*(p.best_beta-p.beta)+c_2*r2*(best_global.best_beta-p.beta)\n",
        "        p.vel_A = w*best_global.vel_A+c_1*r1*(p.best_A-p.A)+c_2*r2*(best_global.best_A-p.A)\n",
        "        pass\n",
        "\n",
        "    def update_position(self, p:Solution, eps):\n",
        "        T_ =  0.5*eps*(np.matmul(p.vel_A.T, p.A) - np.matmul(p.A.T,p.vel_A))\n",
        "        Q = cayley_transformation(T_)\n",
        "        p.A = np.matmul(p.A,Q)\n",
        "        p.beta = p.beta + eps*p.vel_beta\n",
        "        pass\n",
        "\n",
        "    def mutate(self, Sm:Solution, mutation_step_size, vel_mutation_setp_size):\n",
        "        deltabeta = random_matrix((self.k,1))\n",
        "        deltaA = random_matrix((self.d,self.k))\n",
        "        T_ = 0.5*mutation_step_size*(np.matmul(deltaA.T, Sm.A) - np.matmul(Sm.A.T,deltaA))\n",
        "        Q =  cayley_transformation(T_)\n",
        "        Sm.A = np.matmul(Sm.A,Q)\n",
        "        Sm.beta = Sm.beta+mutation_step_size*deltabeta\n",
        "        Sm.vel_beta = Sm.vel_beta + vel_mutation_setp_size*random_matrix((self.k,1))\n",
        "        Sm.vel_A = Sm.vel_A + vel_mutation_setp_size*random_matrix((self.d,self.k))\n",
        "        pass\n",
        "\n",
        "    def best_global_from(self, archive, p_gb_nr):\n",
        "        \"\"\"\n",
        "        assumes archive is sorted wrt crowding distance \n",
        "        \"\"\"\n",
        "        if np.random.random() < p_gb_nr:\n",
        "            # return the one with maximum crowding distance with prob p_gb_nr\n",
        "            return archive[-1] \n",
        "        else:\n",
        "            rid = np.random.randint(0,len(archive))\n",
        "            return archive[rid]\n",
        "\n",
        "    def non_dominated_merge(self,M,archive, P):\n",
        "        F = nondominated_subset(P)\n",
        "        archive = nondominated_subset(F+archive)\n",
        "        if len(archive) > M:\n",
        "            archive = compute_crowding_distance(archive, is_nondominant=True, to_sort=True)\n",
        "            archive = archive[-M:]\n",
        "        return archive\n",
        "\n",
        "    def run(self,N, M, T_max,w,c_1,c_2,eps,p_m,mutate_step_size,vel_mutation_setp_size, p_gb_nr, logger:Logger=None):\n",
        "        Archive = []\n",
        "        P = self.initialize_population_and_velocity(N)\n",
        "        for p in P:\n",
        "            _R = self.data_handler.compute_reward(p.beta,p.A)\n",
        "            _L = self.data_handler.compute_loss(p.beta,p.A)\n",
        "            p.first_set_RL_MOPSO(_R,_L)\n",
        "        Archive = nondominated_subset(P)\n",
        "        Archive = compute_crowding_distance(Archive,is_nondominant=True, to_sort=True)\n",
        "        if logger is not None:\n",
        "            logger.log_EA_Population(0,P)\n",
        "            logger.log_archive(0,Archive)\n",
        "        for t in tqdm(range(T_max), desc=\"Time loop in MOPSO\"):\n",
        "            best_global = self.best_global_from(Archive,p_gb_nr)\n",
        "            # for i in tqdm(range(N), desc=\"Position update loop in MOPSO\"):\n",
        "            for i in range(N):\n",
        "                self.update_velocity(P[i], best_global, w,c_1,c_2)\n",
        "                self.update_position(P[i],eps)\n",
        "                if np.random.random() < p_m:\n",
        "                    self.mutate(P[i],mutate_step_size, vel_mutation_setp_size)\n",
        "                _R = self.data_handler.compute_reward(P[i].beta,P[i].A)\n",
        "                _L = self.data_handler.compute_loss(P[i].beta,P[i].A)\n",
        "                P[i].assign_RL(_R,_L)\n",
        "                _temp_sol = Solution(p.beta, p.A)\n",
        "                _temp_sol.assign_RL(_R,_L)\n",
        "                p.update_best_pos_obj_MOPSO(_temp_sol)\n",
        "            Archive = self.non_dominated_merge(M,Archive,P)\n",
        "            Archive = compute_crowding_distance(Archive,is_nondominant=True, to_sort=True)\n",
        "            if logger is not None:\n",
        "                logger.log_EA_Population(t+1,P)\n",
        "                logger.log_archive(t+1,Archive)\n",
        "        return Archive\n",
        "    \n",
        "    def get_string(self,N, M, T_max,w,c_1,c_2,eps,p_m,mutate_step_size,vel_mutation_setp_size, p_gb_nr):\n",
        "        return f\"MOPSO[{N},{M},{T_max},{int(1000*w)},{int(1000*c_1)},{int(1000*c_2)},{int(1000*eps)},{int(1000*p_m)},{int(1000*mutate_step_size)},{int(1000*vel_mutation_setp_size)},{int(1000*p_gb_nr)}]\""
      ],
      "metadata": {
        "id": "mZXFsMCJgEoe"
      },
      "execution_count": 13,
      "outputs": []
    },
    {
      "cell_type": "markdown",
      "source": [
        "## Experiment"
      ],
      "metadata": {
        "id": "CUdarGN8_gYT"
      }
    },
    {
      "cell_type": "code",
      "source": [
        "n = 50\n",
        "k = 21\n",
        "d = 20\n",
        "T = 600\n",
        "assert(T<_datam.shape[1])\n",
        "S = _datam.shape[1]-T\n",
        "\n",
        "dh = Data_Handler(n,k,d,T,S,_datam)"
      ],
      "metadata": {
        "id": "endqukld_gYT"
      },
      "execution_count": null,
      "outputs": []
    },
    {
      "cell_type": "code",
      "source": [
        "pop_size = 20\n",
        "archive_size = 1000\n",
        "generation = 100\n",
        "velocity_decay_weight = 0.90\n",
        "c_1 = 0.5\n",
        "c_2 = 0.2\n",
        "position_update_eps = 6*1e-3\n",
        "prob_mutation = 0.1\n",
        "pos_mutation_setp_size = 1e-3\n",
        "vel_mutation_setp_size = 1e-3\n",
        "prob_non_random_global_best = 0.95"
      ],
      "metadata": {
        "id": "jUiLbOco_gYU"
      },
      "execution_count": null,
      "outputs": []
    },
    {
      "cell_type": "code",
      "source": [
        "mopso = MOPSO(dh)\n",
        "logger_name = mopso.get_string(pop_size,\n",
        "              archive_size,\n",
        "              generation,\n",
        "              velocity_decay_weight,\n",
        "              c_1,\n",
        "              c_2,\n",
        "              position_update_eps,\n",
        "              prob_mutation,\n",
        "              pos_mutation_setp_size,\n",
        "              vel_mutation_setp_size,\n",
        "              prob_non_random_global_best) + '-' + dh.get_string()\n",
        "logger_mopso = Logger(logger_name,dh)\n",
        "P = mopso.run(pop_size,\n",
        "              archive_size,\n",
        "              generation,\n",
        "              velocity_decay_weight,\n",
        "              c_1,\n",
        "              c_2,\n",
        "              position_update_eps,\n",
        "              prob_mutation,\n",
        "              pos_mutation_setp_size,\n",
        "              vel_mutation_setp_size,\n",
        "              prob_non_random_global_best,\n",
        "              logger=logger_mopso)\n"
      ],
      "metadata": {
        "id": "M_ggSG56cImb"
      },
      "execution_count": null,
      "outputs": []
    },
    {
      "cell_type": "code",
      "source": [
        "len(P)"
      ],
      "metadata": {
        "colab": {
          "base_uri": "https://localhost:8080/"
        },
        "outputId": "225633b0-9c64-4f36-f318-8950de397bc3",
        "id": "XRYmquna_gYW"
      },
      "execution_count": null,
      "outputs": [
        {
          "output_type": "execute_result",
          "data": {
            "text/plain": [
              "53"
            ]
          },
          "metadata": {},
          "execution_count": 29
        }
      ]
    },
    {
      "cell_type": "code",
      "source": [
        "logger_mopso.dump(RESULTS_FOLDER)"
      ],
      "metadata": {
        "id": "hutqht21cK0V"
      },
      "execution_count": null,
      "outputs": []
    },
    {
      "cell_type": "code",
      "source": [
        "for pop_size_i in [100, 200, 500] :\n",
        "  mopso = MOPSO(dh)\n",
        "  logger_name = mopso.get_string(pop_size_i,\n",
        "                archive_size,\n",
        "                generation,\n",
        "                velocity_decay_weight,\n",
        "                c_1,\n",
        "                c_2,\n",
        "                position_update_eps,\n",
        "                prob_mutation,\n",
        "                pos_mutation_setp_size,\n",
        "                vel_mutation_setp_size,\n",
        "                prob_non_random_global_best) + '-' + dh.get_string()\n",
        "  logger_mopso = Logger(logger_name,dh)\n",
        "  P = mopso.run(pop_size_i,\n",
        "                archive_size,\n",
        "                generation,\n",
        "                velocity_decay_weight,\n",
        "                c_1,\n",
        "                c_2,\n",
        "                position_update_eps,\n",
        "                prob_mutation,\n",
        "                pos_mutation_setp_size,\n",
        "                vel_mutation_setp_size,\n",
        "                prob_non_random_global_best,\n",
        "                logger=logger_mopso)\n",
        "  logger_mopso.dump(RESULTS_FOLDER)"
      ],
      "metadata": {
        "id": "NhJD0c4Eawdp"
      },
      "execution_count": null,
      "outputs": []
    },
    {
      "cell_type": "code",
      "source": [],
      "metadata": {
        "id": "qP2PwvYzeMbK"
      },
      "execution_count": null,
      "outputs": []
    },
    {
      "cell_type": "code",
      "source": [
        "logger_mopso.show_tragetctory_plot(xscale='linear')"
      ],
      "metadata": {
        "id": "mIxqKO_M_gYY"
      },
      "execution_count": null,
      "outputs": []
    },
    {
      "cell_type": "code",
      "source": [
        "logger_mopso.get_tragectory_gif(xscale='linear')"
      ],
      "metadata": {
        "id": "q9Eis15n_gYY"
      },
      "execution_count": null,
      "outputs": []
    },
    {
      "cell_type": "code",
      "source": [
        "logger_mopso.get_grad_gif(xscale='linear')"
      ],
      "metadata": {
        "id": "Dunt3qOx_gYY"
      },
      "execution_count": null,
      "outputs": []
    },
    {
      "cell_type": "code",
      "source": [
        "logger_mopso.get_gif_from_RL_log_dict(xscale='linear',style='ggplot',use_archive_instead=True)"
      ],
      "metadata": {
        "id": "KTLVJUrugfO7"
      },
      "execution_count": null,
      "outputs": []
    },
    {
      "cell_type": "code",
      "source": [],
      "metadata": {
        "id": "uNkXAFqHlXg-"
      },
      "execution_count": null,
      "outputs": []
    }
  ]
}